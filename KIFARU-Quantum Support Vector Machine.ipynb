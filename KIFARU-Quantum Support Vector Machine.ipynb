{
 "cells": [
  {
   "cell_type": "code",
   "execution_count": 6,
   "id": "ac94aef7",
   "metadata": {},
   "outputs": [],
   "source": [
    "import pandas as pd\n",
    "import numpy as np\n",
    "import matplotlib.pyplot as plt\n",
    "from sklearn.preprocessing import LabelEncoder\n",
    "from sklearn.metrics import multilabel_confusion_matrix, accuracy_score\n",
    "\n",
    "\n",
    "train = pd.read_csv(r\"C:\\Users\\TEVOH\\Train.csv\")\n",
    "test = pd.read_csv(r\"C:\\Users\\TEVOH\\Test.csv\")\n",
    "encoder= LabelEncoder()\n",
    "train['gender_of_respondent']=encoder.fit_transform(train[\"gender_of_respondent\"])\n",
    "train['location_type']=encoder.fit_transform(train[\"location_type\"])\n",
    "train['cellphone_access']=encoder.fit_transform(train[\"cellphone_access\"])\n",
    "train['bank_account']=encoder.fit_transform(train[\"bank_account\"])\n",
    "\n",
    "trainEncode = pd.get_dummies(train, columns=['country'])\n",
    "trainEncode = pd.get_dummies(trainEncode, columns=['relationship_with_head'])\n",
    "trainEncode = pd.get_dummies(trainEncode, columns=['marital_status'])\n",
    "trainEncode = pd.get_dummies(trainEncode, columns=['education_level'])\n",
    "trainEncode = pd.get_dummies(trainEncode, columns=['job_type'])\n",
    "trainEncode = trainEncode.drop([\"uniqueid\"], axis= 1)\n",
    "trainEncode.head()\n",
    "newTrainData = trainEncode.drop([\"bank_account\"], axis= 1)"
   ]
  },
  {
   "cell_type": "code",
   "execution_count": 15,
   "id": "d8f2ba0d",
   "metadata": {},
   "outputs": [
    {
     "data": {
      "text/plain": [
       "StandardScaler(copy='true', with_mean='true', with_std='true')"
      ]
     },
     "execution_count": 15,
     "metadata": {},
     "output_type": "execute_result"
    }
   ],
   "source": [
    "from sklearn.preprocessing import StandardScaler\n",
    "scaler = StandardScaler(copy='true', with_mean=\"true\",with_std=\"true\")\n",
    "scaler.fit(trainEncode)"
   ]
  },
  {
   "cell_type": "code",
   "execution_count": 16,
   "id": "3e98ca53",
   "metadata": {},
   "outputs": [],
   "source": [
    "scaled_data = scaler.transform(trainEncode)"
   ]
  },
  {
   "cell_type": "code",
   "execution_count": 10,
   "id": "17121059",
   "metadata": {},
   "outputs": [],
   "source": [
    "from sklearn.decomposition import PCA"
   ]
  },
  {
   "cell_type": "code",
   "execution_count": 17,
   "id": "1ea76b13",
   "metadata": {},
   "outputs": [],
   "source": [
    "pca = PCA(n_components=4)"
   ]
  },
  {
   "cell_type": "code",
   "execution_count": 18,
   "id": "18ca730f",
   "metadata": {},
   "outputs": [
    {
     "data": {
      "text/plain": [
       "PCA(n_components=4)"
      ]
     },
     "execution_count": 18,
     "metadata": {},
     "output_type": "execute_result"
    }
   ],
   "source": [
    "pca.fit(scaled_data)"
   ]
  },
  {
   "cell_type": "code",
   "execution_count": 22,
   "id": "70f14571",
   "metadata": {},
   "outputs": [],
   "source": [
    "transformedData = pca.transform(scaled_data)"
   ]
  },
  {
   "cell_type": "code",
   "execution_count": 23,
   "id": "aa0b315b",
   "metadata": {},
   "outputs": [
    {
     "data": {
      "text/plain": [
       "(23524, 4)"
      ]
     },
     "execution_count": 23,
     "metadata": {},
     "output_type": "execute_result"
    }
   ],
   "source": [
    "transformedData.shape"
   ]
  },
  {
   "cell_type": "code",
   "execution_count": 30,
   "id": "45281659",
   "metadata": {},
   "outputs": [],
   "source": [
    " data_labels = transformedData [:,:1].reshape(transformedData.shape[0],)\n",
    " data_features = transformedData [:,1:]"
   ]
  },
  {
   "cell_type": "code",
   "execution_count": 47,
   "id": "8426786d",
   "metadata": {},
   "outputs": [
    {
     "ename": "SyntaxError",
     "evalue": "cannot assign to operator (<ipython-input-47-e6aa7565c5b0>, line 4)",
     "output_type": "error",
     "traceback": [
      "\u001b[1;36m  File \u001b[1;32m\"<ipython-input-47-e6aa7565c5b0>\"\u001b[1;36m, line \u001b[1;32m4\u001b[0m\n\u001b[1;33m    nine_random-samples = rng.choice(np.arange(3000,6000),1000)\u001b[0m\n\u001b[1;37m    ^\u001b[0m\n\u001b[1;31mSyntaxError\u001b[0m\u001b[1;31m:\u001b[0m cannot assign to operator\n"
     ]
    }
   ],
   "source": [
    "\n",
    "rng = np.random.default_rng()\n",
    "num_datapoints = 1000\n",
    "four_random_smaples =rng.choice(3000,1000,replace=False)\n",
    "nine_random-samples = rng.choice(np.arange(3000,6000),1000)\n",
    "four_data= data_features[four_random_samples]\n",
    "nine_data= data_features[four_random_samples]\n",
    "\n",
    "four_data = np.array(four_data)\n",
    "nine_data = np.array(nine_data)\n",
    "\n",
    "\n",
    "train_data_size = int(num_datapoints * 0.8)\n",
    "test_data_size = int(num_datapoints * 0.2)\n",
    "\n",
    "\n",
    "four_train_data= four_data[:train_data_size]\n",
    "nine_train_data= nine_data[:train_data_size]\n",
    "\n",
    "four_test_data= four_data[train_data_size:]\n",
    "nine_test_data= nine_data[train_data_size:]\n",
    "\n",
    "\n",
    "training_input= {'A':four_train_data,\"B\":nine_train_data}\n",
    "test_input = {'A':four_test_data,\"B\":nine_test_data}"
   ]
  },
  {
   "cell_type": "code",
   "execution_count": 51,
   "id": "0b1b6f15",
   "metadata": {},
   "outputs": [
    {
     "ename": "ModuleNotFoundError",
     "evalue": "No module named 'quskit'",
     "output_type": "error",
     "traceback": [
      "\u001b[1;31m---------------------------------------------------------------------------\u001b[0m",
      "\u001b[1;31mModuleNotFoundError\u001b[0m                       Traceback (most recent call last)",
      "\u001b[1;32m<ipython-input-51-fd17da189a41>\u001b[0m in \u001b[0;36m<module>\u001b[1;34m\u001b[0m\n\u001b[1;32m----> 1\u001b[1;33m \u001b[1;32mimport\u001b[0m \u001b[0mquskit\u001b[0m\u001b[1;33m\u001b[0m\u001b[1;33m\u001b[0m\u001b[0m\n\u001b[0m\u001b[0;32m      2\u001b[0m \u001b[1;32mfrom\u001b[0m \u001b[0mqiskit\u001b[0m \u001b[1;32mimport\u001b[0m \u001b[0mIBMQ\u001b[0m\u001b[1;33m,\u001b[0m \u001b[0massemble\u001b[0m\u001b[1;33m,\u001b[0m \u001b[0mtranspile\u001b[0m\u001b[1;33m\u001b[0m\u001b[1;33m\u001b[0m\u001b[0m\n\u001b[0;32m      3\u001b[0m \u001b[1;32mfrom\u001b[0m \u001b[0mqiskit\u001b[0m\u001b[1;33m.\u001b[0m\u001b[0mcircuit\u001b[0m\u001b[1;33m.\u001b[0m\u001b[0mrandom\u001b[0m \u001b[1;32mimport\u001b[0m \u001b[0mrandom_circuit\u001b[0m\u001b[1;33m\u001b[0m\u001b[1;33m\u001b[0m\u001b[0m\n\u001b[0;32m      4\u001b[0m \u001b[1;32mfrom\u001b[0m \u001b[0mquiskit\u001b[0m \u001b[1;32mimport\u001b[0m \u001b[0mBasicAer\u001b[0m\u001b[1;33m\u001b[0m\u001b[1;33m\u001b[0m\u001b[0m\n\u001b[0;32m      5\u001b[0m \u001b[1;32mfrom\u001b[0m \u001b[0mquiskit\u001b[0m\u001b[1;33m.\u001b[0m\u001b[0mcircuit\u001b[0m\u001b[1;33m.\u001b[0m\u001b[0mlibrary\u001b[0m \u001b[1;32mimport\u001b[0m \u001b[0mZZFeatureMap\u001b[0m\u001b[1;33m\u001b[0m\u001b[1;33m\u001b[0m\u001b[0m\n",
      "\u001b[1;31mModuleNotFoundError\u001b[0m: No module named 'quskit'"
     ]
    }
   ],
   "source": [
    "import quskit\n",
    "from qiskit import IBMQ, assemble, transpile\n",
    "from qiskit.circuit.random import random_circuit\n",
    "from quiskit import BasicAer\n",
    "from quiskit.circuit.library import ZZFeatureMap\n",
    "from quiskit.aqua import ZZFeatureMap\n",
    "from quiskit.circuit.library import QuantumInstance, aqua_globals\n",
    "from quiskit.aqua.algorithms import QSVM\n",
    "from qiskit import IBMQ, assemble, transpile\n",
    "from qiskit.circuit.random import random_circuit\n",
    "\n",
    "provider = IBMQ.load_account()\n",
    "backend = provider.backend.ibmq_vigo\n",
    "\n",
    "\n",
    "feature_map= ZZFeatureMap(feature_dimenstion=feature,reps=2,entanglement=\"linear\")\n",
    "qsvm = QSVM (feature_map,training_input,test_input)\n",
    "\n",
    "backend =BasicAer.get_backend(\"quasm_simulator\")\n",
    "quantum_instance= QuantumInstance(backend,shots =1024,seed_simulator =seed )\n",
    "\n",
    "result= qsvm.run(quantum_instance)\n"
   ]
  },
  {
   "cell_type": "code",
   "execution_count": null,
   "id": "52354054",
   "metadata": {},
   "outputs": [],
   "source": [
    " "
   ]
  }
 ],
 "metadata": {
  "kernelspec": {
   "display_name": "Python 3",
   "language": "python",
   "name": "python3"
  },
  "language_info": {
   "codemirror_mode": {
    "name": "ipython",
    "version": 3
   },
   "file_extension": ".py",
   "mimetype": "text/x-python",
   "name": "python",
   "nbconvert_exporter": "python",
   "pygments_lexer": "ipython3",
   "version": "3.8.10"
  }
 },
 "nbformat": 4,
 "nbformat_minor": 5
}
